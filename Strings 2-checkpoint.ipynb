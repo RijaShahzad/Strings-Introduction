{
 "cells": [
  {
   "cell_type": "code",
   "execution_count": 1,
   "id": "03a641a6",
   "metadata": {},
   "outputs": [
    {
     "name": "stdout",
     "output_type": "stream",
     "text": [
      "Hazrat Abubakr was the first caliph of islam\n"
     ]
    }
   ],
   "source": [
    "abubakr=\"Hazrat Abubakr was the first caliph of islam\"\n",
    "print(abubakr)"
   ]
  },
  {
   "cell_type": "code",
   "execution_count": 5,
   "id": "098462c8",
   "metadata": {},
   "outputs": [
    {
     "ename": "SyntaxError",
     "evalue": "EOL while scanning string literal (Temp/ipykernel_11412/3822773205.py, line 1)",
     "output_type": "error",
     "traceback": [
      "\u001b[1;36m  File \u001b[1;32m\"C:\\Users\\shahz\\AppData\\Local\\Temp/ipykernel_11412/3822773205.py\"\u001b[1;36m, line \u001b[1;32m1\u001b[0m\n\u001b[1;33m    abubakr='Hazrat Abubakr was the first\u001b[0m\n\u001b[1;37m                                         ^\u001b[0m\n\u001b[1;31mSyntaxError\u001b[0m\u001b[1;31m:\u001b[0m EOL while scanning string literal\n"
     ]
    }
   ],
   "source": [
    "abubakr='Hazrat Abubakr was the first\n",
    "\n",
    " caliph of islam'\n",
    "print(abubakr)"
   ]
  },
  {
   "cell_type": "code",
   "execution_count": 6,
   "id": "fdbfbbbc",
   "metadata": {},
   "outputs": [
    {
     "name": "stdout",
     "output_type": "stream",
     "text": [
      "Hazrat Abubakr was the first\n",
      "\n",
      " caliph of islam\n"
     ]
    }
   ],
   "source": [
    "abubakr='''Hazrat Abubakr was the first\n",
    "\n",
    " caliph of islam'''\n",
    "print(abubakr)"
   ]
  },
  {
   "cell_type": "code",
   "execution_count": 1,
   "id": "b70316c6",
   "metadata": {},
   "outputs": [
    {
     "ename": "SyntaxError",
     "evalue": "invalid syntax (Temp/ipykernel_2720/537067152.py, line 1)",
     "output_type": "error",
     "traceback": [
      "\u001b[1;36m  File \u001b[1;32m\"C:\\Users\\shahz\\AppData\\Local\\Temp/ipykernel_2720/537067152.py\"\u001b[1;36m, line \u001b[1;32m1\u001b[0m\n\u001b[1;33m    silly_string ='He said, \"Aren't can't shouldn't wouldn't\"'\u001b[0m\n\u001b[1;37m                                  ^\u001b[0m\n\u001b[1;31mSyntaxError\u001b[0m\u001b[1;31m:\u001b[0m invalid syntax\n"
     ]
    }
   ],
   "source": [
    "silly_string ='He said, \"Aren't can't shouldn't wouldn't\"'\n",
    "print(silly_string)"
   ]
  },
  {
   "cell_type": "code",
   "execution_count": 3,
   "id": "f7b4c325",
   "metadata": {},
   "outputs": [
    {
     "name": "stdout",
     "output_type": "stream",
     "text": [
      "He said, \"Aren't can't shouldn't wouldn't\"\n"
     ]
    }
   ],
   "source": [
    "silly_string ='''He said, \"Aren't can't shouldn't wouldn't\"'''\n",
    "print(silly_string)"
   ]
  },
  {
   "cell_type": "code",
   "execution_count": 5,
   "id": "b41ca55d",
   "metadata": {},
   "outputs": [
    {
     "name": "stdout",
     "output_type": "stream",
     "text": [
      "He said, \"Aren't can't shouldn't wouldn't\"\n"
     ]
    }
   ],
   "source": [
    "silly_string='He said, \"Aren\\'t can\\'t shouldn\\'t wouldn\\'t\"'\n",
    "print (silly_string)"
   ]
  },
  {
   "cell_type": "code",
   "execution_count": 6,
   "id": "cb8e65bf",
   "metadata": {},
   "outputs": [
    {
     "name": "stdout",
     "output_type": "stream",
     "text": [
      "He said, \"Aren't can't shouldn't wouldn't\"\n"
     ]
    }
   ],
   "source": [
    "silly_string='''He said, \"Aren\\'t can\\'t shouldn\\'t wouldn\\'t\"'''\n",
    "print (silly_string)"
   ]
  },
  {
   "cell_type": "code",
   "execution_count": 11,
   "id": "24025225",
   "metadata": {},
   "outputs": [
    {
     "name": "stdout",
     "output_type": "stream",
     "text": [
      "He said,\"Aren't can't shouldn't wouldn't\"\n"
     ]
    }
   ],
   "source": [
    "doubleQuote=\"He said,\\\"Aren't can't shouldn't wouldn't\\\"\"\n",
    "print(doubleQuote)"
   ]
  },
  {
   "cell_type": "code",
   "execution_count": 5,
   "id": "f3413f33",
   "metadata": {},
   "outputs": [
    {
     "name": "stdout",
     "output_type": "stream",
     "text": [
      "I scored 1000 points\n"
     ]
    }
   ],
   "source": [
    "myscore=1000\n",
    "message='I scored %s points'\n",
    "print (message % myscore)"
   ]
  },
  {
   "cell_type": "code",
   "execution_count": 16,
   "id": "848ca0bb",
   "metadata": {},
   "outputs": [
    {
     "name": "stdout",
     "output_type": "stream",
     "text": [
      "What did he say to 0 and 8?\n"
     ]
    }
   ],
   "source": [
    "nums='What did %s say to %s and %s?'\n",
    "print(nums %('he',0,8))"
   ]
  },
  {
   "cell_type": "code",
   "execution_count": 6,
   "id": "f8c56ace",
   "metadata": {},
   "outputs": [
    {
     "name": "stdout",
     "output_type": "stream",
     "text": [
      " a a a a a a a a a a a a a a a a a a a a a a a a a a a a a a a a a a a a a a a a a a a a a a a a a a\n"
     ]
    }
   ],
   "source": [
    "print(50*' a')"
   ]
  },
  {
   "cell_type": "code",
   "execution_count": 37,
   "id": "958453e1",
   "metadata": {},
   "outputs": [
    {
     "name": "stdout",
     "output_type": "stream",
     "text": [
      " 12 DHA Phase 5\n",
      " West Snoring\n",
      "\n",
      "\n",
      "Dear Sir!\n",
      "\n",
      "   I wish to report that tiles are missing from the\n",
      "outside toilet roof\n",
      "\n",
      "Regards,\n",
      "Sharfoo\n"
     ]
    }
   ],
   "source": [
    "spaces=''*25\n",
    "print('%s 12 DHA Phase 5'% spaces)\n",
    "print('%s West Snoring' % spaces)\n",
    "print()\n",
    "print()\n",
    "print('Dear Sir!')\n",
    "print()\n",
    "print('   I wish to report that tiles are missing from the')\n",
    "print('outside toilet roof')\n",
    "print()\n",
    "print('Regards,')\n",
    "print('Sharfoo')"
   ]
  },
  {
   "cell_type": "code",
   "execution_count": 38,
   "id": "1394a589",
   "metadata": {},
   "outputs": [
    {
     "name": "stdout",
     "output_type": "stream",
     "text": [
      "sabzee, fruit, aloo, chai\n"
     ]
    }
   ],
   "source": [
    "sharfoo_list='sabzee, fruit, aloo, chai'\n",
    "print(sharfoo_list)\n"
   ]
  },
  {
   "cell_type": "code",
   "execution_count": 41,
   "id": "1f653131",
   "metadata": {},
   "outputs": [
    {
     "name": "stdout",
     "output_type": "stream",
     "text": [
      "aloo\n"
     ]
    }
   ],
   "source": [
    "sharfoo_list=['sabzee', 'fruit', 'aloo', 'chai']\n",
    "print(sharfoo_list[2])"
   ]
  },
  {
   "cell_type": "code",
   "execution_count": 1,
   "id": "52c2c3b4",
   "metadata": {},
   "outputs": [
    {
     "name": "stdout",
     "output_type": "stream",
     "text": [
      "['sabzee', 'fruit', 'aloo']\n"
     ]
    }
   ],
   "source": [
    "sharfoo_list=['sabzee','fruit','aloo','chai']\n",
    "print(sharfoo_list[0:3])"
   ]
  },
  {
   "cell_type": "markdown",
   "id": "3c925d5e",
   "metadata": {},
   "source": []
  },
  {
   "cell_type": "raw",
   "id": "7cf13880",
   "metadata": {},
   "source": []
  },
  {
   "cell_type": "code",
   "execution_count": 2,
   "id": "88330e3f",
   "metadata": {},
   "outputs": [
    {
     "name": "stdout",
     "output_type": "stream",
     "text": [
      "['Why', 'was', 6, 'afraid', 'of', 7, 'beacuse', 7, 8, 9]\n"
     ]
    }
   ],
   "source": [
    "some_numbers=[1,2,5,10,20]\n",
    "some_string=['which','witch','is','which']\n",
    "numbersAndStrings=['Why','was',6,'afraid','of',7,'beacuse',7,8,9]\n",
    "print(numbersAndStrings)"
   ]
  },
  {
   "cell_type": "code",
   "execution_count": 50,
   "id": "afb99fc8",
   "metadata": {},
   "outputs": [
    {
     "name": "stdout",
     "output_type": "stream",
     "text": [
      "['List within a list']\n",
      "\n",
      "[[1, 2, 3, 4], ['I', 'kicked', 'my', 'toe', 'and', 'it', 'is', 'sore']]\n"
     ]
    }
   ],
   "source": [
    "topic=['List within a list']\n",
    "print(topic)\n",
    "print()\n",
    "numbers=[1,2,3,4]\n",
    "strings=['I','kicked','my','toe','and','it','is','sore']\n",
    "myList=[numbers,strings]\n",
    "print(myList)\n"
   ]
  },
  {
   "cell_type": "code",
   "execution_count": 13,
   "id": "58db506f",
   "metadata": {},
   "outputs": [
    {
     "name": "stdout",
     "output_type": "stream",
     "text": [
      "['Adding items to a list']\n",
      "\n",
      "['spider legs', 'toe of frog', 'eye of newt', 'snake dandruff']\n",
      "['spider legs', 'toe of frog', 'eye of newt', 'snake dandruff', 'bear burp']\n",
      "['spider legs', 'toe of frog', 'eye of newt', 'snake dandruff', 'bear burp', 'hemlock']\n"
     ]
    }
   ],
   "source": [
    "topic=['Adding items to a list']\n",
    "print(topic)\n",
    "print()\n",
    "wizard_list=['spider legs','toe of frog','eye of newt','snake dandruff']\n",
    "print(wizard_list)\n",
    "wizard_list.append('bear burp')\n",
    "print(wizard_list)\n",
    "wizard_list.append('hemlock')\n",
    "print(wizard_list)"
   ]
  },
  {
   "cell_type": "code",
   "execution_count": 21,
   "id": "c1226149",
   "metadata": {},
   "outputs": [
    {
     "name": "stdout",
     "output_type": "stream",
     "text": [
      "['Delete items from a list']\n",
      "\n",
      "['spider legs', 'eye of newt', 'snake dandruff']\n"
     ]
    }
   ],
   "source": [
    "topic=['Delete items from a list']\n",
    "print(topic)\n",
    "print()\n",
    "wizard_list=['spider legs','toe of frog','eye of newt','snake dandruff']\n",
    "del wizard_list[1]\n",
    "print(wizard_list)"
   ]
  },
  {
   "cell_type": "code",
   "execution_count": 33,
   "id": "e922e872",
   "metadata": {},
   "outputs": [
    {
     "name": "stdout",
     "output_type": "stream",
     "text": [
      "[' Joining two lists using \"+\" ']\n",
      "\n",
      "[1, 2, 3, 4, 'I', 'tripped', 'over', 'and', 'hit', 'the', 'floor']\n"
     ]
    }
   ],
   "source": [
    "topic=[''' Joining two lists using \"+\" ''']\n",
    "print(topic)\n",
    "print()\n",
    "list1=[1,2,3,4]\n",
    "list2=['I','tripped','over','and','hit','the','floor']\n",
    "print(list1+list2)"
   ]
  },
  {
   "cell_type": "code",
   "execution_count": null,
   "id": "fda13a5c",
   "metadata": {},
   "outputs": [],
   "source": []
  },
  {
   "cell_type": "code",
   "execution_count": null,
   "id": "031ee4be",
   "metadata": {},
   "outputs": [],
   "source": []
  },
  {
   "cell_type": "code",
   "execution_count": null,
   "id": "c221cb79",
   "metadata": {},
   "outputs": [],
   "source": []
  }
 ],
 "metadata": {
  "kernelspec": {
   "display_name": "Python 3 (ipykernel)",
   "language": "python",
   "name": "python3"
  },
  "language_info": {
   "codemirror_mode": {
    "name": "ipython",
    "version": 3
   },
   "file_extension": ".py",
   "mimetype": "text/x-python",
   "name": "python",
   "nbconvert_exporter": "python",
   "pygments_lexer": "ipython3",
   "version": "3.9.7"
  }
 },
 "nbformat": 4,
 "nbformat_minor": 5
}
